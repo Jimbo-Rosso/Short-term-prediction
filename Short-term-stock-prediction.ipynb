{
 "cells": [
  {
   "cell_type": "markdown",
   "metadata": {},
   "source": [
    "## <font color=blue> First we import the required packages"
   ]
  },
  {
   "cell_type": "code",
   "execution_count": 1,
   "metadata": {},
   "outputs": [
    {
     "name": "stdout",
     "output_type": "stream",
     "text": [
      "Populating the interactive namespace from numpy and matplotlib\n"
     ]
    }
   ],
   "source": [
    "import pandas as pd\n",
    "from pandas_datareader import data as web# For importing data; this code may change depending on pandas version\n",
    "import datetime as dt\n",
    "from datetime import date   # for input the date\n",
    "import matplotlib.pyplot as plt # for visualization\n",
    "import csv # to save (download) the data at the end\n",
    "\n",
    "import numpy as np # for lineal model\n",
    "from sklearn import linear_model\n",
    "\n",
    "\n",
    "# This line is necessary for the plot to appear in a Jupyter notebook\n",
    "%matplotlib inline\n",
    "# Control the default size of figures in this Jupyter notebook\n",
    "%pylab inline\n",
    "pylab.rcParams['figure.figsize'] = (15, 9)   # Change the size of plots"
   ]
  },
  {
   "cell_type": "markdown",
   "metadata": {},
   "source": [
    "## <font color=blue> Read and explore the csv file"
   ]
  },
  {
   "cell_type": "markdown",
   "metadata": {},
   "source": [
    "We will use stock data from Citi bank (between March 3rd and April 4th (2017)) to train our linear regression model. In a previous module I described how to read data from yahoo and google finance, and how to dowload such data bases to csv files. Here we load such data (this can be done with any csv file). In our case, it information from Citi bank,  Citidata.csv"
   ]
  },
  {
   "cell_type": "code",
   "execution_count": 2,
   "metadata": {},
   "outputs": [],
   "source": [
    "df=pd.read_csv(\"/home/cristobal/Citidata.csv\")"
   ]
  },
  {
   "cell_type": "code",
   "execution_count": 3,
   "metadata": {},
   "outputs": [
    {
     "name": "stdout",
     "output_type": "stream",
     "text": [
      "         Date       Open       High        Low      Close  Adj Close    Volume\n",
      "0  2017-03-03  60.389999  61.250000  60.330002  61.000000  60.557163  15178600\n",
      "1  2017-03-06  60.799999  60.880001  60.259998  60.279999  59.842388  14979400\n",
      "2  2017-03-07  60.189999  60.709999  59.779999  60.500000  60.060795  17297800\n",
      "3  2017-03-08  61.560001  62.529999  61.060001  61.110001  60.666367  30724000\n",
      "4  2017-03-09  61.360001  62.090000  61.230000  61.549999  61.103172  21429300\n"
     ]
    },
    {
     "data": {
      "text/plain": [
       "['Date', 'Open', 'High', 'Low', 'Close', 'Adj Close', 'Volume']"
      ]
     },
     "execution_count": 3,
     "metadata": {},
     "output_type": "execute_result"
    }
   ],
   "source": [
    "print(df.head(5))\n",
    "list(df.columns.values)"
   ]
  },
  {
   "cell_type": "markdown",
   "metadata": {},
   "source": [
    "## <font color=blue> Create a column representing days with integer number (as an index)"
   ]
  },
  {
   "cell_type": "code",
   "execution_count": 4,
   "metadata": {},
   "outputs": [],
   "source": [
    "n=len(df.index)\n",
    "linspacecol = np.linspace(0, n, n, endpoint=False).astype(int)\n",
    "df['day']=linspacecol"
   ]
  },
  {
   "cell_type": "markdown",
   "metadata": {},
   "source": [
    "Make a reallity check"
   ]
  },
  {
   "cell_type": "code",
   "execution_count": 5,
   "metadata": {},
   "outputs": [
    {
     "data": {
      "text/html": [
       "<div>\n",
       "<table border=\"1\" class=\"dataframe\">\n",
       "  <thead>\n",
       "    <tr style=\"text-align: right;\">\n",
       "      <th></th>\n",
       "      <th>Date</th>\n",
       "      <th>Open</th>\n",
       "      <th>High</th>\n",
       "      <th>Low</th>\n",
       "      <th>Close</th>\n",
       "      <th>Adj Close</th>\n",
       "      <th>Volume</th>\n",
       "      <th>day</th>\n",
       "    </tr>\n",
       "  </thead>\n",
       "  <tbody>\n",
       "    <tr>\n",
       "      <th>18</th>\n",
       "      <td>2017-03-29</td>\n",
       "      <td>59.529999</td>\n",
       "      <td>59.880001</td>\n",
       "      <td>59.270000</td>\n",
       "      <td>59.389999</td>\n",
       "      <td>58.958851</td>\n",
       "      <td>13457400</td>\n",
       "      <td>18</td>\n",
       "    </tr>\n",
       "    <tr>\n",
       "      <th>19</th>\n",
       "      <td>2017-03-30</td>\n",
       "      <td>59.389999</td>\n",
       "      <td>60.830002</td>\n",
       "      <td>59.360001</td>\n",
       "      <td>60.509998</td>\n",
       "      <td>60.070721</td>\n",
       "      <td>14886200</td>\n",
       "      <td>19</td>\n",
       "    </tr>\n",
       "    <tr>\n",
       "      <th>20</th>\n",
       "      <td>2017-03-31</td>\n",
       "      <td>60.310001</td>\n",
       "      <td>60.509998</td>\n",
       "      <td>59.790001</td>\n",
       "      <td>59.820000</td>\n",
       "      <td>59.385731</td>\n",
       "      <td>14407900</td>\n",
       "      <td>20</td>\n",
       "    </tr>\n",
       "    <tr>\n",
       "      <th>21</th>\n",
       "      <td>2017-04-03</td>\n",
       "      <td>59.930000</td>\n",
       "      <td>60.090000</td>\n",
       "      <td>58.650002</td>\n",
       "      <td>59.680000</td>\n",
       "      <td>59.246746</td>\n",
       "      <td>15460500</td>\n",
       "      <td>21</td>\n",
       "    </tr>\n",
       "    <tr>\n",
       "      <th>22</th>\n",
       "      <td>2017-04-04</td>\n",
       "      <td>59.290001</td>\n",
       "      <td>59.950001</td>\n",
       "      <td>59.200001</td>\n",
       "      <td>59.680000</td>\n",
       "      <td>59.246746</td>\n",
       "      <td>9745600</td>\n",
       "      <td>22</td>\n",
       "    </tr>\n",
       "  </tbody>\n",
       "</table>\n",
       "</div>"
      ],
      "text/plain": [
       "          Date       Open       High        Low      Close  Adj Close  \\\n",
       "18  2017-03-29  59.529999  59.880001  59.270000  59.389999  58.958851   \n",
       "19  2017-03-30  59.389999  60.830002  59.360001  60.509998  60.070721   \n",
       "20  2017-03-31  60.310001  60.509998  59.790001  59.820000  59.385731   \n",
       "21  2017-04-03  59.930000  60.090000  58.650002  59.680000  59.246746   \n",
       "22  2017-04-04  59.290001  59.950001  59.200001  59.680000  59.246746   \n",
       "\n",
       "      Volume  day  \n",
       "18  13457400   18  \n",
       "19  14886200   19  \n",
       "20  14407900   20  \n",
       "21  15460500   21  \n",
       "22   9745600   22  "
      ]
     },
     "execution_count": 5,
     "metadata": {},
     "output_type": "execute_result"
    }
   ],
   "source": [
    "df.tail()"
   ]
  },
  {
   "cell_type": "code",
   "execution_count": 6,
   "metadata": {},
   "outputs": [
    {
     "data": {
      "text/html": [
       "<div>\n",
       "<table border=\"1\" class=\"dataframe\">\n",
       "  <thead>\n",
       "    <tr style=\"text-align: right;\">\n",
       "      <th></th>\n",
       "      <th>Date</th>\n",
       "      <th>Open</th>\n",
       "      <th>High</th>\n",
       "      <th>Low</th>\n",
       "      <th>Close</th>\n",
       "      <th>Adj Close</th>\n",
       "      <th>Volume</th>\n",
       "      <th>day</th>\n",
       "    </tr>\n",
       "  </thead>\n",
       "  <tbody>\n",
       "    <tr>\n",
       "      <th>0</th>\n",
       "      <td>2017-03-03</td>\n",
       "      <td>60.389999</td>\n",
       "      <td>61.250000</td>\n",
       "      <td>60.330002</td>\n",
       "      <td>61.000000</td>\n",
       "      <td>60.557163</td>\n",
       "      <td>15178600</td>\n",
       "      <td>0</td>\n",
       "    </tr>\n",
       "    <tr>\n",
       "      <th>1</th>\n",
       "      <td>2017-03-06</td>\n",
       "      <td>60.799999</td>\n",
       "      <td>60.880001</td>\n",
       "      <td>60.259998</td>\n",
       "      <td>60.279999</td>\n",
       "      <td>59.842388</td>\n",
       "      <td>14979400</td>\n",
       "      <td>1</td>\n",
       "    </tr>\n",
       "    <tr>\n",
       "      <th>2</th>\n",
       "      <td>2017-03-07</td>\n",
       "      <td>60.189999</td>\n",
       "      <td>60.709999</td>\n",
       "      <td>59.779999</td>\n",
       "      <td>60.500000</td>\n",
       "      <td>60.060795</td>\n",
       "      <td>17297800</td>\n",
       "      <td>2</td>\n",
       "    </tr>\n",
       "    <tr>\n",
       "      <th>3</th>\n",
       "      <td>2017-03-08</td>\n",
       "      <td>61.560001</td>\n",
       "      <td>62.529999</td>\n",
       "      <td>61.060001</td>\n",
       "      <td>61.110001</td>\n",
       "      <td>60.666367</td>\n",
       "      <td>30724000</td>\n",
       "      <td>3</td>\n",
       "    </tr>\n",
       "    <tr>\n",
       "      <th>4</th>\n",
       "      <td>2017-03-09</td>\n",
       "      <td>61.360001</td>\n",
       "      <td>62.090000</td>\n",
       "      <td>61.230000</td>\n",
       "      <td>61.549999</td>\n",
       "      <td>61.103172</td>\n",
       "      <td>21429300</td>\n",
       "      <td>4</td>\n",
       "    </tr>\n",
       "  </tbody>\n",
       "</table>\n",
       "</div>"
      ],
      "text/plain": [
       "         Date       Open       High        Low      Close  Adj Close  \\\n",
       "0  2017-03-03  60.389999  61.250000  60.330002  61.000000  60.557163   \n",
       "1  2017-03-06  60.799999  60.880001  60.259998  60.279999  59.842388   \n",
       "2  2017-03-07  60.189999  60.709999  59.779999  60.500000  60.060795   \n",
       "3  2017-03-08  61.560001  62.529999  61.060001  61.110001  60.666367   \n",
       "4  2017-03-09  61.360001  62.090000  61.230000  61.549999  61.103172   \n",
       "\n",
       "     Volume  day  \n",
       "0  15178600    0  \n",
       "1  14979400    1  \n",
       "2  17297800    2  \n",
       "3  30724000    3  \n",
       "4  21429300    4  "
      ]
     },
     "execution_count": 6,
     "metadata": {},
     "output_type": "execute_result"
    }
   ],
   "source": [
    "df.head()"
   ]
  },
  {
   "cell_type": "markdown",
   "metadata": {},
   "source": [
    "##  <font color=blue>So we will predict stock at day 23 (the next day)"
   ]
  },
  {
   "cell_type": "markdown",
   "metadata": {},
   "source": [
    "The reason to define this function is to emphasize that how to write a function that retunrns more than one arguments. In this case, the **input** are **dates** and **prices** as integers, and the value (or day) **x** that we wan **to estimate**. The **output** of the code are **two coefficients** representing the best linear approximation obatained by training the model with the given points and _minimizing_ the residual sum of squares (**SSD**). In other words, the first coeffciemt is the slope of the line and the second represents the intercept with the y axis  "
   ]
  },
  {
   "cell_type": "code",
   "execution_count": 7,
   "metadata": {},
   "outputs": [],
   "source": [
    "\n",
    "def predict_price(dates,prices,x):\n",
    "    linear_mod = linear_model.LinearRegression() #defining the linear regression model\n",
    "    dates = np.reshape(dates,(len(dates),1)) # converting to matrix of n X 1\n",
    "    prices = np.reshape(prices,(len(prices),1))\n",
    "    linear_mod.fit(dates,prices) #fitting the data points in the model\n",
    "    predicted_price =linear_mod.predict(x)\n",
    "    return predicted_price[0][0],linear_mod.coef_[0][0] ,linear_mod.intercept_[0]# return prediction and coefficients"
   ]
  },
  {
   "cell_type": "code",
   "execution_count": 8,
   "metadata": {},
   "outputs": [],
   "source": [
    "dates=df['day']"
   ]
  },
  {
   "cell_type": "code",
   "execution_count": 9,
   "metadata": {},
   "outputs": [],
   "source": [
    "prices=df['Close']"
   ]
  },
  {
   "cell_type": "markdown",
   "metadata": {},
   "source": [
    "##  <font color=blue>Short-term stock prediction"
   ]
  },
  {
   "cell_type": "code",
   "execution_count": 10,
   "metadata": {},
   "outputs": [
    {
     "data": {
      "image/png": "[encoded data removed]",
      "text/plain": [
       "<matplotlib.figure.Figure at 0x7f257fba7208>"
      ]
     },
     "metadata": {},
     "output_type": "display_data"
    }
   ],
   "source": [
    "\n",
    "\n",
    "linear_mod = linear_model.LinearRegression()\n",
    "dates = np.reshape(dates,(len(dates),1)) # converting to matrix of n X 1\n",
    "prices = np.reshape(prices,(len(prices),1))\n",
    "linear_mod.fit(dates,prices) #fitting the data points in the model\n",
    "\n",
    "plt.title('Stock-Close')\n",
    "plt.grid(True)\n",
    "plt.scatter(dates,prices,color='black',linewidth=6) #plotting the initial datapoints \n",
    "plt.plot(dates,linear_mod.predict(dates),color='blue',linewidth=2.5, linestyle=\"-\") #plotting the line made by linear regression\n",
    "plt.show()\n"
   ]
  },
  {
   "cell_type": "markdown",
   "metadata": {},
   "source": [
    "##  <font color=blue> Predicted value and regression coefficients"
   ]
  },
  {
   "cell_type": "code",
   "execution_count": 11,
   "metadata": {},
   "outputs": [
    {
     "name": "stdout",
     "output_type": "stream",
     "text": [
      "The stock open price for 4th August 2017 is: $ 58.7270746838\n",
      "The regression coefficient is  -0.104664055336 , and the constant is  61.1343479565\n",
      "the relationship equation between dates and prices is: price =  -0.104664055336 * date +  61.1343479565\n"
     ]
    }
   ],
   "source": [
    " \n",
    "predicted_price, coefficient, constant = predict_price(dates,prices,23)  \n",
    "print (\"The stock open price for 4th August 2017 is: $\",str(predicted_price))\n",
    "print (\"The regression coefficient is \",str(coefficient),\", and the constant is \", str(constant))\n",
    "print (\"the relationship equation between dates and prices is: price = \",str(coefficient),\"* date + \",str(constant))"
   ]
  },
  {
   "cell_type": "markdown",
   "metadata": {},
   "source": [
    "##  <font color=blue> Periodicity and long-term prediction"
   ]
  },
  {
   "cell_type": "markdown",
   "metadata": {},
   "source": [
    "To discuss this we load 12 months of data for the same company"
   ]
  },
  {
   "cell_type": "code",
   "execution_count": 12,
   "metadata": {},
   "outputs": [
    {
     "name": "stdout",
     "output_type": "stream",
     "text": [
      "2016\n",
      "2017-04-04\n"
     ]
    }
   ],
   "source": [
    "start_date = dt.date(2016,4,4)  #year, month, day\n",
    "end_date = dt.date(2017,4,4) \n",
    "print(start_date.strftime(\"%Y\"))\n",
    "print(end_date)\n",
    "CitiYear= web.DataReader(\"C\", \"yahoo\", start_date, end_date)"
   ]
  },
  {
   "cell_type": "code",
   "execution_count": 13,
   "metadata": {},
   "outputs": [
    {
     "data": {
      "text/html": [
       "<div>\n",
       "<table border=\"1\" class=\"dataframe\">\n",
       "  <thead>\n",
       "    <tr style=\"text-align: right;\">\n",
       "      <th></th>\n",
       "      <th>Open</th>\n",
       "      <th>High</th>\n",
       "      <th>Low</th>\n",
       "      <th>Close</th>\n",
       "      <th>Adj Close</th>\n",
       "      <th>Volume</th>\n",
       "    </tr>\n",
       "    <tr>\n",
       "      <th>Date</th>\n",
       "      <th></th>\n",
       "      <th></th>\n",
       "      <th></th>\n",
       "      <th></th>\n",
       "      <th></th>\n",
       "      <th></th>\n",
       "    </tr>\n",
       "  </thead>\n",
       "  <tbody>\n",
       "    <tr>\n",
       "      <th>2017-03-30</th>\n",
       "      <td>59.389999</td>\n",
       "      <td>60.830002</td>\n",
       "      <td>59.360001</td>\n",
       "      <td>60.509998</td>\n",
       "      <td>60.070721</td>\n",
       "      <td>14886200</td>\n",
       "    </tr>\n",
       "    <tr>\n",
       "      <th>2017-03-31</th>\n",
       "      <td>60.310001</td>\n",
       "      <td>60.509998</td>\n",
       "      <td>59.790001</td>\n",
       "      <td>59.820000</td>\n",
       "      <td>59.385731</td>\n",
       "      <td>14407900</td>\n",
       "    </tr>\n",
       "    <tr>\n",
       "      <th>2017-04-03</th>\n",
       "      <td>59.930000</td>\n",
       "      <td>60.090000</td>\n",
       "      <td>58.650002</td>\n",
       "      <td>59.680000</td>\n",
       "      <td>59.246746</td>\n",
       "      <td>15460500</td>\n",
       "    </tr>\n",
       "    <tr>\n",
       "      <th>2017-04-04</th>\n",
       "      <td>59.290001</td>\n",
       "      <td>59.950001</td>\n",
       "      <td>59.200001</td>\n",
       "      <td>59.680000</td>\n",
       "      <td>59.246746</td>\n",
       "      <td>9745600</td>\n",
       "    </tr>\n",
       "    <tr>\n",
       "      <th>2017-04-05</th>\n",
       "      <td>60.500000</td>\n",
       "      <td>61.020000</td>\n",
       "      <td>59.529999</td>\n",
       "      <td>59.590000</td>\n",
       "      <td>59.157402</td>\n",
       "      <td>20295200</td>\n",
       "    </tr>\n",
       "  </tbody>\n",
       "</table>\n",
       "</div>"
      ],
      "text/plain": [
       "                 Open       High        Low      Close  Adj Close    Volume\n",
       "Date                                                                       \n",
       "2017-03-30  59.389999  60.830002  59.360001  60.509998  60.070721  14886200\n",
       "2017-03-31  60.310001  60.509998  59.790001  59.820000  59.385731  14407900\n",
       "2017-04-03  59.930000  60.090000  58.650002  59.680000  59.246746  15460500\n",
       "2017-04-04  59.290001  59.950001  59.200001  59.680000  59.246746   9745600\n",
       "2017-04-05  60.500000  61.020000  59.529999  59.590000  59.157402  20295200"
      ]
     },
     "execution_count": 13,
     "metadata": {},
     "output_type": "execute_result"
    }
   ],
   "source": [
    "CitiYear.tail()"
   ]
  },
  {
   "cell_type": "markdown",
   "metadata": {},
   "source": [
    "##  <font color=blue> Measuring Error "
   ]
  },
  {
   "cell_type": "markdown",
   "metadata": {},
   "source": [
    "After downloading more information, we can check our prediction. The stock closing price for the next day was"
   ]
  },
  {
   "cell_type": "code",
   "execution_count": 14,
   "metadata": {},
   "outputs": [
    {
     "name": "stdout",
     "output_type": "stream",
     "text": [
      "59.59\n"
     ]
    }
   ],
   "source": [
    "m=len(CitiYear.index)\n",
    "real_stock_data=CitiYear['Close'][m-1]\n",
    "print(real_stock_data)\n"
   ]
  },
  {
   "cell_type": "markdown",
   "metadata": {},
   "source": [
    "Then, the error is "
   ]
  },
  {
   "cell_type": "code",
   "execution_count": 15,
   "metadata": {},
   "outputs": [
    {
     "name": "stdout",
     "output_type": "stream",
     "text": [
      "0.862925316206\n"
     ]
    }
   ],
   "source": [
    "error=real_stock_data-predicted_price\n",
    "print(error)"
   ]
  },
  {
   "cell_type": "markdown",
   "metadata": {},
   "source": [
    "In our next module we will discuss more about how to measure different types of error (Residual Sum of Squares, Mean Absolute Deviation, Root Mean Squared Error, etc)"
   ]
  },
  {
   "cell_type": "markdown",
   "metadata": {},
   "source": [
    "As you can see in the graph below of the stock data for the entire year 2016-2017. There are certain patterns that are repeated during seasons. It will be nice to combine linear features and \"periodicity\" features for better predcition."
   ]
  },
  {
   "cell_type": "code",
   "execution_count": 16,
   "metadata": {},
   "outputs": [
    {
     "data": {
      "text/plain": [
       "<matplotlib.legend.Legend at 0x7f257d09bcf8>"
      ]
     },
     "execution_count": 16,
     "metadata": {},
     "output_type": "execute_result"
    },
    {
     "data": {
      "image/png": "[encoded data removed]",
      "text/plain": [
       "<matplotlib.figure.Figure at 0x7f257d09bcc0>"
      ]
     },
     "metadata": {},
     "output_type": "display_data"
    }
   ],
   "source": [
    "\n",
    "plt.title('Stock-Close')\n",
    "plt.grid(True)\n",
    "CitiYear[\"Close\"].plot(grid = True, color=\"red\",  linewidth=2.5, linestyle=\"-\", label=\"Citi\")\n",
    "plt.legend(loc='upper left')"
   ]
  }
 ],
 "metadata": {
  "kernelspec": {
   "display_name": "Python 3",
   "language": "python",
   "name": "python3"
  },
  "language_info": {
   "codemirror_mode": {
    "name": "ipython",
    "version": 3
   },
   "file_extension": ".py",
   "mimetype": "text/x-python",
   "name": "python",
   "nbconvert_exporter": "python",
   "pygments_lexer": "ipython3",
   "version": "3.5.1"
  }
 },
 "nbformat": 4,
 "nbformat_minor": 2
}
